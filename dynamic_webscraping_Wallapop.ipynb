{
 "cells": [
  {
   "cell_type": "markdown",
   "id": "8077dc4d",
   "metadata": {},
   "source": [
    "# Web-Scraping Wallapop\n",
    "This notebook uses dynamic web-scraping to store data from Wallapop. The main library deployed is Selenium.\n",
    "\n",
    "*Note: This notebook was developped in December 2022, so Wallapop's webpage structure may have varied. For reproduction, the web scraping items and filtering conditions may need to vary.*"
   ]
  },
  {
   "cell_type": "markdown",
   "id": "3e0af1a0",
   "metadata": {},
   "source": [
    "## 1) Setting up the working environment"
   ]
  },
  {
   "cell_type": "markdown",
   "id": "b138acb4",
   "metadata": {},
   "source": [
    "Before data can be extracted from Wallapop using this web-scraper, the following libraries should be installed:\n",
    "```arrow```, ```numpy```, ```pandas```, ```selenium```, ```tqdm```, and ```webdriver_manager```\n",
    "\n",
    "Uncommenting the following cells will download the necessary libraries"
   ]
  },
  {
   "cell_type": "code",
   "execution_count": 1,
   "id": "d19f0406",
   "metadata": {},
   "outputs": [],
   "source": [
    "# pip install arrow"
   ]
  },
  {
   "cell_type": "code",
   "execution_count": 2,
   "id": "1f8c1f3c",
   "metadata": {},
   "outputs": [],
   "source": [
    "# pip install numpy"
   ]
  },
  {
   "cell_type": "code",
   "execution_count": 3,
   "id": "11cb4bfa",
   "metadata": {},
   "outputs": [],
   "source": [
    "# pip install pandas"
   ]
  },
  {
   "cell_type": "code",
   "execution_count": 4,
   "id": "7de808d8",
   "metadata": {},
   "outputs": [],
   "source": [
    "# pip install selenium"
   ]
  },
  {
   "cell_type": "code",
   "execution_count": 5,
   "id": "809d298c",
   "metadata": {},
   "outputs": [],
   "source": [
    "# pip install tqdm"
   ]
  },
  {
   "cell_type": "code",
   "execution_count": 6,
   "id": "05b14985",
   "metadata": {},
   "outputs": [],
   "source": [
    "# pip install webdriver-manager"
   ]
  },
  {
   "cell_type": "code",
   "execution_count": 7,
   "id": "e0179db0",
   "metadata": {},
   "outputs": [],
   "source": [
    "# Standard library imports\n",
    "\n",
    "import time\n",
    "import random\n",
    "from datetime import datetime\n",
    "import re\n",
    "\n",
    "# Third party library imports\n",
    "import arrow\n",
    "import numpy as np\n",
    "import pandas as pd\n",
    "from tqdm import tqdm\n",
    "from selenium.common.exceptions import TimeoutException\n",
    "from selenium import webdriver\n",
    "from selenium.webdriver.common.keys import Keys\n",
    "from selenium.webdriver.support import expected_conditions as EC \n",
    "from selenium.webdriver.common.by import By\n",
    "from selenium.webdriver.support.wait import WebDriverWait\n",
    "from selenium.webdriver.chrome.options import Options\n",
    "from selenium.webdriver.common.action_chains import ActionChains\n",
    "from selenium.webdriver.chrome.service import Service\n",
    "from webdriver_manager.chrome import ChromeDriverManager"
   ]
  },
  {
   "cell_type": "markdown",
   "id": "b81afc1d",
   "metadata": {},
   "source": [
    "## 2) Setting up the webdriver and accessing Wallapop"
   ]
  },
  {
   "cell_type": "code",
   "execution_count": 8,
   "id": "e9c16782",
   "metadata": {},
   "outputs": [],
   "source": [
    "# Creating empty lists for scraped data to be stored in\n",
    "\n",
    "links = []\n",
    "titles = []\n",
    "descriptions = []\n",
    "prices = []\n",
    "images = []\n",
    "bike_types = []\n",
    "bike_states = []\n",
    "children = []\n",
    "bike_sizes = []\n",
    "bike_size_letters = []\n",
    "dates = []"
   ]
  },
  {
   "cell_type": "markdown",
   "id": "6ffc295d",
   "metadata": {},
   "source": [
    "The following block of code assigns our web-scraper a random User Agent(UA) used to \"mask\" online presence and avoid detection from anti-scraping mechanisms.\n",
    "\n",
    "Furthermore, uncommenting the following line of code allows the scraper to work in \"headless\" mode, disabling the graphical user-interface of the browser:\n",
    "> ```#opts.add_argument(\"--headless\")```"
   ]
  },
  {
   "cell_type": "code",
   "execution_count": 9,
   "id": "34ab5f31",
   "metadata": {},
   "outputs": [],
   "source": [
    "user_agents = [\"Mozilla/5.0 (Macintosh; Intel Mac OS X 10_15_7) AppleWebKit/537.36 (KHTML, like Gecko) Chrome/107.0.0.0 Safari/537.36\",\n",
    "               \"Mozilla/5.0 (Macintosh; Intel Mac OS X 13_0_1) AppleWebKit/537.36 (KHTML, like Gecko) Chrome/107.0.0.0 Safari/537.36\",\n",
    "               \"Mozilla/5.0 (Macintosh; Intel Mac OS X 10_15_7) AppleWebKit/537.36 (KHTML, like Gecko) Chrome/105.0.0.0 Safari/537.36\",\n",
    "               \"Mozilla/5.0 (Macintosh; Intel Mac OS X 10_15_7) AppleWebKit/537.36 (KHTML, like Gecko) Chrome/103.0.0.0 Safari/537.365\",\n",
    "               \"Mozilla/5.0 (Macintosh; Intel Mac OS X 10_15_7) AppleWebKit/537.36 (KHTML, like Gecko) Chrome/104.0.0.0 Safari/537.36\",\n",
    "               \"Mozilla/5.0 (Macintosh; Intel Mac OS X 10_15_7) AppleWebKit/537.36 (KHTML, like Gecko) Chrome/106.0.0.0 Safari/537.36\",\n",
    "               \"Mozilla/5.0 (Macintosh; Intel Mac OS X 10_15_7) AppleWebKit/537.36 (KHTML, like Gecko) Chrome/102.0.0.0 Safari/537.36\"\n",
    "               ]\n",
    "\n",
    "user_agent = random.choice(user_agents)\n",
    "\n",
    "opts = Options()\n",
    "opts.add_argument(f\"user-agent={user_agent}\")\n",
    "#opts.add_argument(\"--headless\")"
   ]
  },
  {
   "cell_type": "code",
   "execution_count": 29,
   "id": "5c716230",
   "metadata": {},
   "outputs": [],
   "source": [
    "# Initiate chromium instance using options defined in cell above and maximizing window\n",
    "\n",
    "driver = webdriver.Chrome(ChromeDriverManager().install(), options = opts)\n",
    "driver.maximize_window()"
   ]
  },
  {
   "cell_type": "code",
   "execution_count": 11,
   "id": "56779633",
   "metadata": {},
   "outputs": [],
   "source": [
    "# If the above line throws an error/warning with regards to ChromeDriverManager and/or the Service module, \n",
    "# the following code can be used to troubleshoot:\n",
    "\n",
    "#driver = webdriver.Chrome(service = Service(ChromeDriverManager().install()), options = opts)\n",
    "\n",
    "# As a last resort, installing chromedriver locally and setting the PATH should troubleshoot any problems\n",
    "# the code to run would then be as follows:\n",
    "\n",
    "#driver = webdriver.Chrome(PATH = \"path to your installation\", options = opts)"
   ]
  },
  {
   "cell_type": "code",
   "execution_count": 30,
   "id": "808b52a2",
   "metadata": {},
   "outputs": [],
   "source": [
    "# Access Wallapop homepage\n",
    "\n",
    "driver.get(\"https://es.wallapop.com\")"
   ]
  },
  {
   "cell_type": "code",
   "execution_count": 31,
   "id": "c9fbd861",
   "metadata": {},
   "outputs": [],
   "source": [
    "# Await cookie pop-up request -> accept if present, otherwise, move to next cell\n",
    "\n",
    "try:\n",
    "    cookies = WebDriverWait(driver, 15).until(EC.element_to_be_clickable((By.XPATH, \"//*[@id='onetrust-accept-btn-handler']\")))\n",
    "    cookies.click()\n",
    "except:\n",
    "    pass"
   ]
  },
  {
   "cell_type": "markdown",
   "id": "8cad5a12",
   "metadata": {},
   "source": [
    "## 3) Defining our static search parameters"
   ]
  },
  {
   "cell_type": "markdown",
   "id": "b2ce01bb",
   "metadata": {},
   "source": [
    "These search parameters will remain the same for the entirety of the scraping process.\n",
    "\n",
    "The steps of this process are as follows:\n",
    "\n",
    ">```1. Entering bycicles in the searchbar```\n",
    "\n",
    ">```2. Specifying \"bicicletas\" as desired category```\n",
    "\n",
    ">```3. Setting search location to Barcelona within a 10km radius```\n",
    "\n",
    ">```4. Setting the maximum price to 800€```"
   ]
  },
  {
   "cell_type": "code",
   "execution_count": 32,
   "id": "ac3138c8",
   "metadata": {},
   "outputs": [],
   "source": [
    "searchbar = WebDriverWait(driver, 15).until(EC.element_to_be_clickable((By.XPATH, \"//*[@id='searchBoxForm']/div/div[1]/input[1]\")))\n",
    "searchbar.clear()\n",
    "searchbar.send_keys(\"bicicleta\")\n",
    "searchbar.submit()\n",
    "\n",
    "time.sleep(1)"
   ]
  },
  {
   "cell_type": "code",
   "execution_count": 33,
   "id": "42c677ac",
   "metadata": {},
   "outputs": [],
   "source": [
    "categories = WebDriverWait(driver, 15).until(EC.element_to_be_clickable((By.XPATH, \"//div[contains(text(), 'Todas las categorías')]\")))\n",
    "categories.click()\n",
    "\n",
    "time.sleep(1)"
   ]
  },
  {
   "cell_type": "code",
   "execution_count": 34,
   "id": "9db212e7",
   "metadata": {},
   "outputs": [],
   "source": [
    "bike_category = WebDriverWait(driver, 15).until(EC.element_to_be_clickable((By.XPATH, \"//span[contains(text(), 'Bicicletas')]\")))\n",
    "bike_category.click()\n",
    "\n",
    "time.sleep(1)"
   ]
  },
  {
   "cell_type": "code",
   "execution_count": 17,
   "id": "bcf55a41",
   "metadata": {},
   "outputs": [],
   "source": [
    "location_filter = WebDriverWait(driver, 15).until(EC.element_to_be_clickable((By.XPATH, \"//div[contains(text(), 'España, Madrid')]\")))\n",
    "location_filter.click()\n",
    "\n",
    "time.sleep(1)"
   ]
  },
  {
   "cell_type": "code",
   "execution_count": 18,
   "id": "89ed9dea",
   "metadata": {},
   "outputs": [],
   "source": [
    "location_search = WebDriverWait(driver, 15).until(EC.element_to_be_clickable((By.XPATH, \"//input[@class='LocationFilter__input py-0 px-5 w-100 form-control ng-untouched ng-pristine ng-valid']\")))\n",
    "location_search.clear()\n",
    "location_search.send_keys(\"España, Barcelona\")\n",
    "time.sleep(1)\n",
    "location_search.send_keys(Keys.ENTER) \n",
    "\n",
    "time.sleep(1)"
   ]
  },
  {
   "cell_type": "code",
   "execution_count": 19,
   "id": "6f7e3094",
   "metadata": {},
   "outputs": [],
   "source": [
    "radius_slider = driver.find_element(By.XPATH, \"//span[@role = 'slider']\")\n",
    "radius_distance = driver.find_element(By.XPATH, \"//span[@class = 'ngx-slider-span ngx-slider-bubble ngx-slider-model-value']\").text.replace(\"km\", \"\")\n",
    "\n",
    "while radius_distance != \"10\":\n",
    "    ActionChains(driver).drag_and_drop_by_offset(radius_slider, -50, 0).perform()\n",
    "    radius_distance = driver.find_element(By.XPATH, \"//span[@class = 'ngx-slider-span ngx-slider-bubble ngx-slider-model-value']\").text.replace(\"km\", \"\")\n",
    "    \n",
    "time.sleep(1)"
   ]
  },
  {
   "cell_type": "code",
   "execution_count": 20,
   "id": "ff5e62a5",
   "metadata": {},
   "outputs": [],
   "source": [
    "accept_location = WebDriverWait(driver, 15).until(EC.element_to_be_clickable((By.XPATH, \"//button[contains(text(), 'Aplicar')]\")))\n",
    "accept_location.click()\n",
    "\n",
    "time.sleep(1)"
   ]
  },
  {
   "cell_type": "code",
   "execution_count": 21,
   "id": "a05e72fc",
   "metadata": {},
   "outputs": [],
   "source": [
    "price_filter = WebDriverWait(driver, 15).until(EC.element_to_be_clickable((By.XPATH, \"//div[contains(text(), 'Precio')]\")))\n",
    "price_filter.click()\n",
    "\n",
    "time.sleep(1)"
   ]
  },
  {
   "cell_type": "code",
   "execution_count": 22,
   "id": "3c39fe4f",
   "metadata": {},
   "outputs": [],
   "source": [
    "max_price = WebDriverWait(driver, 15).until(EC.element_to_be_clickable((By.XPATH, \"//input[@placeholder = 'Sin límite']\")))\n",
    "max_price.click()\n",
    "\n",
    "time.sleep(1)"
   ]
  },
  {
   "cell_type": "code",
   "execution_count": 23,
   "id": "fd93c5f3",
   "metadata": {},
   "outputs": [],
   "source": [
    "max_price.clear()\n",
    "max_price.send_keys(\"800\")\n",
    "\n",
    "time.sleep(1)"
   ]
  },
  {
   "cell_type": "code",
   "execution_count": 24,
   "id": "602c74b6",
   "metadata": {},
   "outputs": [],
   "source": [
    "accept_price_bottons = driver.find_elements(By.XPATH, \"//*[@class = 'btn btn-filter btn-primary']\")\n",
    "\n",
    "for button in accept_price_bottons:\n",
    "    try:\n",
    "        if button.text == \"Aplicar\":\n",
    "            button.click()\n",
    "        else:\n",
    "            continue\n",
    "    except:\n",
    "        pass\n",
    "\n",
    "time.sleep(1)"
   ]
  },
  {
   "cell_type": "markdown",
   "id": "b28bc010",
   "metadata": {},
   "source": [
    "## 4) Designing the web-scraper"
   ]
  },
  {
   "cell_type": "markdown",
   "id": "b8fea8d9",
   "metadata": {},
   "source": [
    "This web-scraper accomplishes the following tasks:\n",
    "\n",
    ">```- Dynamically adjusts search filters in order to retrieve a maximum of 250 entries for each combination of \"Estado del producto\" and \"Subcategoria\" filters```\n",
    "\n",
    ">```- Retrieves the necessary information and appends it to the lists defined above```"
   ]
  },
  {
   "cell_type": "code",
   "execution_count": 25,
   "id": "41a64aae",
   "metadata": {},
   "outputs": [],
   "source": [
    "def super_scraper(bike_model, bike_condition):\n",
    "\n",
    "    # Click on the \"Subcategoría\" button\n",
    "    subfield = WebDriverWait(driver, 15).until(EC.element_to_be_clickable((By.XPATH, \"//div[contains(text(), 'Subcategoría')]\")))\n",
    "    subfield.click()\n",
    "    time.sleep(1)\n",
    "\n",
    "    # Select \"Bicicletas y triciclos\" from the drop-down menu\n",
    "    subfield_specific = WebDriverWait(driver, 15).until(EC.element_to_be_clickable((By.XPATH, \"//p[contains(text(), 'Bicicletas y triciclos')]\")))\n",
    "    subfield_specific.click()\n",
    "    time.sleep(1)\n",
    "\n",
    "    # Select the matching bike model and confirm filter selection\n",
    "    select_bike_labels = driver.find_elements(By.XPATH, \"//*[@class = 'w-100 ng-star-inserted']\")\n",
    "    for bike in select_bike_labels:\n",
    "\n",
    "        bike_label = bike.text.strip()\n",
    "\n",
    "        if bike_label == bike_model:\n",
    "            bike.find_element(By.XPATH, \".//tsl-checkbox-form\").click()\n",
    "            time.sleep(0.5)\n",
    "\n",
    "    accept_subfield_buttons = driver.find_elements(By.XPATH, \"//*[@class = 'btn btn-filter btn-primary']\")\n",
    "    for button in accept_subfield_buttons:\n",
    "        try:\n",
    "            if button.text == \"Aplicar\":\n",
    "                button.click()\n",
    "            else:\n",
    "                continue\n",
    "        except:\n",
    "            pass\n",
    "    time.sleep(1)\n",
    "    \n",
    "    # Click on the \"Estado del producto\" button\n",
    "    state_filter = WebDriverWait(driver, 15).until(EC.element_to_be_clickable((By.XPATH, \"//div[contains(text(), 'Estado del producto')]\")))\n",
    "    state_filter.click()\n",
    "    time.sleep(1)\n",
    "    \n",
    "    # Select the matching bike condition and confirm filter selection\n",
    "    select_states = driver.find_elements(By.XPATH, \"//*[@class = 'w-100 ng-star-inserted']\")\n",
    "    for bike in select_states:\n",
    "    \n",
    "        bike_state = bike.find_element(By.XPATH, \".//p\").text.strip()\n",
    "        \n",
    "        if bike_state == bike_condition:\n",
    "            bike.find_element(By.XPATH, \".//tsl-checkbox-form\").click()\n",
    "            time.sleep(0.5)\n",
    "\n",
    "    accept_state_buttons = driver.find_elements(By.XPATH, \"//*[@class = 'btn btn-filter btn-primary']\")\n",
    "    for button in accept_state_buttons:\n",
    "        try:\n",
    "            if button.text == \"Aplicar\":\n",
    "                button.click()\n",
    "            else:\n",
    "                continue\n",
    "        except:\n",
    "            pass\n",
    "    time.sleep(1)\n",
    "    \n",
    "    # If more than 40 postings are available for a given filter combination, the following code clicks on the \n",
    "    # \"Ver más productos\" button, allowing one to access all results\n",
    "    try:\n",
    "        # Scroll to bottom    \n",
    "        load_more = driver.find_element(By.XPATH, \"//button[contains(text(), 'Ver más productos')]\")\n",
    "        driver.execute_script(\"return arguments[0].scrollIntoView(true);\", load_more)\n",
    "            \n",
    "        # Click \"Ver más productos\" button\n",
    "        driver.execute_script(\"arguments[0].click();\", load_more)\n",
    "        time.sleep(1)\n",
    "            \n",
    "        # Scroll back up\n",
    "        driver.execute_script(\"window.scrollTo(0, 0);\")\n",
    "\n",
    "        # Get the screen height of the webpage\n",
    "        screen_height = driver.execute_script(\"return window.screen.height;\")   \n",
    "        i = 1\n",
    "\n",
    "        # Infinitely scroll until all postings are visible OR at least 250 results have been collected\n",
    "        while True:\n",
    "            # Scroll one screen height at a time\n",
    "            driver.execute_script(\"window.scrollTo(0, {screen_height}*{i});\".format(screen_height = screen_height, i = i))  \n",
    "            i += 1\n",
    "            time.sleep(1)\n",
    "            # Update scroll height each time after each scroll action\n",
    "            scroll_height = driver.execute_script(\"return document.body.scrollHeight;\")  \n",
    "            # Break the loop when the height we need to scroll to is smaller than the total scroll height OR more than 250 results have been found\n",
    "            results = driver.find_elements(By.XPATH, \"//*[@class = 'ItemCardList__item ng-star-inserted']\")# This tag specifically chose since it ignores ads\n",
    "            if ((screen_height) * i > scroll_height) or (len(results) >= 250):\n",
    "                break\n",
    "            time.sleep(1)\n",
    "\n",
    "    except:\n",
    "        # Get the screen height of the web\n",
    "        screen_height = driver.execute_script(\"return window.screen.height;\")\n",
    "        i = 1\n",
    "\n",
    "        # Infinitely scroll until all postings are visible OR at least 250 results have been collected\n",
    "        while True:\n",
    "            # Scroll one screen height at a time\n",
    "            driver.execute_script(\"window.scrollTo(0, {screen_height}*{i});\".format(screen_height = screen_height, i = i))  \n",
    "            i += 1\n",
    "            time.sleep(1)\n",
    "            # Update scroll height each time after each scroll action\n",
    "            scroll_height = driver.execute_script(\"return document.body.scrollHeight;\")  \n",
    "            # Break the loop when the height we need to scroll to is smaller than the total scroll height OR more than 250 results have been found\n",
    "            results = driver.find_elements(By.XPATH, \"//*[@class = 'ItemCardList__item ng-star-inserted']\")# This tag specifically chose since it ignores ads\n",
    "            if ((screen_height) * i > scroll_height) or (len(results) >= 250):\n",
    "                break\n",
    "            time.sleep(1)\n",
    "\n",
    "    # Extract information for each identified posting\n",
    "    for offer in tqdm(results[:250], desc = f\"Scraping bicycles of type '{bike_model}' and condition '{bike_condition}'\", leave = False):\n",
    "    \n",
    "        driver.execute_script(\"return arguments[0].scrollIntoView(true);\", offer)\n",
    "        time.sleep(0.5)\n",
    "        # WebDriverWait(driver, 15).until(EC.element_to_be_clickable((offer))) -> lead to problems only for some ppl\n",
    "        \n",
    "        title = offer.find_element(By.TAG_NAME, \"p\").text.strip()\n",
    "        titles.append(title)\n",
    "\n",
    "        img = offer.find_element(By.XPATH, \".//img\").get_attribute(\"src\")\n",
    "        images.append(img)\n",
    "        \n",
    "        offer.click()\n",
    "        driver.switch_to.window(driver.window_handles[1])\n",
    "        \n",
    "        # During the development of this scraper, it occured that certain detailed postings were not accessible anymore\n",
    "        # The following try, except block mitigates this issue by atempting to identify a given posting's details\n",
    "        try:\n",
    "            WebDriverWait(driver, 15).until(EC.element_to_be_clickable((By.XPATH, \"//div[@class = 'container-detail clearfix']\")))\n",
    "            time.sleep(1)\n",
    "\n",
    "        # Appends faulty link while setting all other features to np.nan\n",
    "        except:\n",
    "            links.append(driver.current_url)\n",
    "            descriptions.append(np.nan)\n",
    "            prices.append(np.nan)\n",
    "            bike_types.append(np.nan)\n",
    "            bike_states.append(np.nan)\n",
    "            children.append(np.nan)\n",
    "            bike_sizes.append(np.nan)\n",
    "            bike_size_letters.append(np.nan)\n",
    "            dates.append(np.nan)\n",
    "\n",
    "            driver.close()\n",
    "            driver.switch_to.window(driver.window_handles[0])\n",
    "            \n",
    "            continue\n",
    "\n",
    "        link = driver.current_url\n",
    "        links.append(link)\n",
    "\n",
    "        desc = driver.find_element(By.XPATH, \"//p[@class = 'js__card-product-detail--description card-product-detail-description']\").text.strip()\n",
    "        descriptions.append(desc)\n",
    "        time.sleep(0.25)\n",
    "\n",
    "        # Logic to the implementation in order to append prices as floats\n",
    "        try:\n",
    "            price = float(driver.find_element(By.XPATH, \"//div[@class = 'card-product-price-info']\").text.replace(\"EUR\", \"\").strip())\n",
    "            prices.append(price)\n",
    "        except:\n",
    "            price = float(driver.find_element(By.XPATH, \"//div[@class = 'card-product-price-info']\").text.replace(\"EUR\", \"\").replace(\",\",\".\").strip())\n",
    "            prices.append(price)\n",
    "\n",
    "        bike_types.append(bike_model)\n",
    "        bike_states.append(bike_condition)\n",
    "        \n",
    "        child_spelling = [\"niño/a\", \"niño\", \"niña\", \"niños\" , \"niñas\", \"niño/as\"]\n",
    "        \n",
    "        # Block of code checks whether a certain spelling variant of child found in \"child_spelling\" exists in the title or description\n",
    "        # of the posting and proceeds to append true values\n",
    "        if (any(word in child_spelling for word in title.split()) or any(word in child_spelling for word in desc.split())):\n",
    "            children.append(True)\n",
    "        else:\n",
    "            children.append(False)\n",
    "        \n",
    "        # Block of code checks whether a size variant exists in the title or description\n",
    "        # of the posting and proceeds to append true values\n",
    "        hashtags = driver.find_element(By.XPATH, \"//div[@class = 'mb-3 card-product-detail-mobile-horizontal-scroll']\").text.strip().replace(\"#\",\" \")\n",
    "        talla_locations = (title + \" \" + desc + \" \" + hashtags).split()\n",
    "        size_letters = [\"s\", \"m\", \"l\"]\n",
    "        sizes = [str(x) for x in range(50, 61)]\n",
    "\n",
    "        force_break = False\n",
    "        for index, word in enumerate(talla_locations): \n",
    "            word = re.sub('[^A-Za-z0-9]+', '', word.casefold()) #fancy re that gets rid of everything except numbers and text\n",
    "\n",
    "            if \"talla\" in word: #check the actual word for any following characters about size\n",
    "                extra_index = list(range(1, (len(word)-4)))\n",
    "                for x in extra_index:\n",
    "                    if word[-x] in size_letters:\n",
    "                        force_break = True\n",
    "                        bike_size_letters.append(word[-x].upper())\n",
    "                        bike_sizes.append(np.nan)\n",
    "                        break\n",
    "                        \n",
    "                    elif word[-x] in sizes:\n",
    "                        force_break = True\n",
    "                        bike_sizes.append(int(word[-x]))\n",
    "                        bike_size_letters.append(np.nan)\n",
    "                        break\n",
    "\n",
    "            if force_break:\n",
    "                break\n",
    "\n",
    "            elif \"talla\" in word: #check next 2 elements for characters about size\n",
    "                next2 = [1,2]\n",
    "                for x in next2:\n",
    "                    try:\n",
    "                        y = re.sub('[^A-Za-z0-9]+', '', talla_locations[index+x].casefold()) #fancy re that gets rid of everything except numbers and text\n",
    "                        if y in size_letters:\n",
    "                            force_break = True\n",
    "                            bike_size_letters.append(y.upper())\n",
    "                            bike_sizes.append(np.nan)\n",
    "                            break\n",
    "                        elif y in sizes:\n",
    "                            force_break = True\n",
    "                            bike_sizes.append(int(y))\n",
    "                            bike_size_letters.append(np.nan)\n",
    "                            break\n",
    "                    except:\n",
    "                        pass\n",
    "\n",
    "            if force_break:\n",
    "                break\n",
    "\n",
    "            elif index+1 == len(talla_locations):\n",
    "                bike_size_letters.append(np.nan)\n",
    "                bike_sizes.append(np.nan)\n",
    "                \n",
    "            else:\n",
    "                continue\n",
    "        \n",
    "        # Append the posting date in datetime format using the arrow library\n",
    "        date = driver.find_element(By.XPATH, \"//div[@class = 'card-product-detail-user-stats-published']\").text.strip()\n",
    "        date = arrow.get(date, \"DD-MMM-YYYY\", locale = \"es\")\n",
    "        date = date.datetime\n",
    "        dates.append(date)\n",
    "\n",
    "        driver.close()\n",
    "        driver.switch_to.window(driver.window_handles[0])\n",
    "        driver.execute_script(\"window.scrollTo(0, 0);\")\n",
    "        time.sleep(1)\n",
    "\n",
    "    # Clear filter for bike model so that next filter combination can be applied\n",
    "    model = WebDriverWait(driver, 15).until(EC.element_to_be_clickable((By.XPATH, f\"//div[contains(text(), '{bike_model}')]\")))\n",
    "    model.click()\n",
    "    clear_model = WebDriverWait(driver, 15).until(EC.element_to_be_clickable((By.XPATH, \"//p[contains(text(), 'Restablecer')]\")))\n",
    "    clear_model.click()\n",
    "\n",
    "    accept_clear_model = driver.find_elements(By.XPATH, \"//*[@class = 'btn btn-filter btn-primary']\")\n",
    "    for button in accept_clear_model:\n",
    "        try:\n",
    "            if button.text == \"Aplicar\":\n",
    "                button.click()\n",
    "            else:\n",
    "                continue\n",
    "        except:\n",
    "            pass\n",
    "    time.sleep(1)\n",
    "\n",
    "    # Clear filter for bike condition so that next filter combination can be applied\n",
    "    condition = WebDriverWait(driver, 15).until(EC.element_to_be_clickable((By.XPATH, f\"//div[contains(text(), '{bike_condition}')]\")))\n",
    "    condition.click()\n",
    "    clear_condition = WebDriverWait(driver, 15).until(EC.element_to_be_clickable((By.XPATH, \"//p[contains(text(), 'Restablecer')]\")))\n",
    "    clear_condition.click()\n",
    "\n",
    "    accept_clear_condition = driver.find_elements(By.XPATH, \"//*[@class = 'btn btn-filter btn-primary']\")\n",
    "    for button in accept_clear_condition:\n",
    "        try:\n",
    "            if button.text == \"Aplicar\":\n",
    "                button.click()\n",
    "            else:\n",
    "                continue\n",
    "        except:\n",
    "            pass\n",
    "    time.sleep(1)"
   ]
  },
  {
   "cell_type": "markdown",
   "id": "70737c46",
   "metadata": {},
   "source": [
    "## 5) Applying web-scraping function to desired filter combinations"
   ]
  },
  {
   "cell_type": "code",
   "execution_count": 26,
   "id": "0f4bcf02",
   "metadata": {},
   "outputs": [],
   "source": [
    "models = [\"Bicicletas de carretera\", \"Bicicletas plegables\", \"MTB\"]\n",
    "conditions = [\"Nuevo\", \"Como nuevo\", \"En buen estado\"]"
   ]
  },
  {
   "cell_type": "code",
   "execution_count": 27,
   "id": "a40c9b5f",
   "metadata": {},
   "outputs": [
    {
     "name": "stderr",
     "output_type": "stream",
     "text": [
      "                                                                                                                              \n",
      "KeyboardInterrupt\n",
      "\n"
     ]
    }
   ],
   "source": [
    "for m in models:\n",
    "    for c in conditions:\n",
    "        super_scraper(m, c)"
   ]
  },
  {
   "cell_type": "code",
   "execution_count": 28,
   "id": "173e5815",
   "metadata": {},
   "outputs": [],
   "source": [
    "driver.quit()"
   ]
  },
  {
   "cell_type": "markdown",
   "id": "2f97e013",
   "metadata": {},
   "source": [
    "## 6) Creating a main dataframe with the collected data"
   ]
  },
  {
   "cell_type": "code",
   "execution_count": null,
   "id": "1f22e182",
   "metadata": {},
   "outputs": [],
   "source": [
    "df = pd.DataFrame({\n",
    "    \"Link\": links,\n",
    "    \"Title\": titles,\n",
    "    \"Description\": descriptions,\n",
    "    \"Price\": prices,\n",
    "    \"Image\": images,\n",
    "    \"Type\": bike_types,\n",
    "    \"State\": bike_states,\n",
    "    \"Children\": children,\n",
    "    \"Size\": bike_sizes,\n",
    "    \"Size (letter)\": bike_size_letters,\n",
    "    \"Date\": dates\n",
    "})"
   ]
  },
  {
   "cell_type": "code",
   "execution_count": null,
   "id": "37100aab",
   "metadata": {},
   "outputs": [],
   "source": [
    "# Removing any possible duplicate entries based on link (since unique)\n",
    "\n",
    "df.drop_duplicates(subset = [\"Link\"], inplace = True)"
   ]
  },
  {
   "cell_type": "code",
   "execution_count": null,
   "id": "431cd65c",
   "metadata": {},
   "outputs": [],
   "source": [
    "df.head()"
   ]
  },
  {
   "cell_type": "code",
   "execution_count": null,
   "id": "c21ac399",
   "metadata": {},
   "outputs": [],
   "source": [
    "df = df.astype({\"Size\": \"Int64\"})"
   ]
  },
  {
   "cell_type": "code",
   "execution_count": null,
   "id": "420d6b69",
   "metadata": {},
   "outputs": [],
   "source": [
    "df.dtypes"
   ]
  },
  {
   "cell_type": "markdown",
   "id": "1bd14016",
   "metadata": {},
   "source": [
    "## 7) Providing an overview of average bike pricing grouped by type/state combinations"
   ]
  },
  {
   "cell_type": "code",
   "execution_count": null,
   "id": "e217d57d",
   "metadata": {},
   "outputs": [],
   "source": [
    "agg = df.groupby([\"Type\", \"State\"])[[\"Price\"]].mean().rename(columns = {\"Price\": \"Avg Price\"})"
   ]
  },
  {
   "cell_type": "code",
   "execution_count": null,
   "id": "80bcad42",
   "metadata": {},
   "outputs": [],
   "source": [
    "agg.head(10)"
   ]
  },
  {
   "cell_type": "code",
   "execution_count": null,
   "id": "a5004d93",
   "metadata": {},
   "outputs": [],
   "source": []
  }
 ],
 "metadata": {
  "kernelspec": {
   "display_name": "Python 3 (ipykernel)",
   "language": "python",
   "name": "python3"
  },
  "language_info": {
   "codemirror_mode": {
    "name": "ipython",
    "version": 3
   },
   "file_extension": ".py",
   "mimetype": "text/x-python",
   "name": "python",
   "nbconvert_exporter": "python",
   "pygments_lexer": "ipython3",
   "version": "3.9.12"
  },
  "vscode": {
   "interpreter": {
    "hash": "40ea54da43b3012c872cd963e6a3a8ede01e86fae3ab84034499efc94ff01aad"
   }
  }
 },
 "nbformat": 4,
 "nbformat_minor": 5
}
