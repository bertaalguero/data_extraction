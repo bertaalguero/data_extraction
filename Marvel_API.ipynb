{
 "cells": [
  {
   "cell_type": "markdown",
   "id": "187ca6f6",
   "metadata": {},
   "source": [
    "# Connecting to Marvel's API\n",
    "The Marvel Developer Portal allows developers everywhere to access information about Marvel's vast library of comics, characters, movies...\n",
    "\n",
    "The API uses a an API Key authentification method, so the first step to connect to it is logging into the portal and generating a key with your email address. "
   ]
  },
  {
   "cell_type": "code",
   "execution_count": null,
   "id": "75c95ca5",
   "metadata": {},
   "outputs": [],
   "source": [
    "# Import several libraries that will be used later\n",
    "\n",
    "import hashlib\n",
    "import pandas as pd\n",
    "import requests\n",
    "import time"
   ]
  },
  {
   "cell_type": "markdown",
   "id": "4f401329",
   "metadata": {},
   "source": [
    "## Connecting to the Marvel API"
   ]
  },
  {
   "cell_type": "code",
   "execution_count": null,
   "id": "0c43c1df",
   "metadata": {},
   "outputs": [],
   "source": [
    "pub_api_key = \"6fc395768fb1406cb953039666f92d8e\"\n",
    "priv_api_key = \"c3d47d8c38d2ff96fc5087726be1173e35610d63\""
   ]
  },
  {
   "cell_type": "code",
   "execution_count": null,
   "id": "801209cf",
   "metadata": {},
   "outputs": [],
   "source": [
    "ts = str(time.time())"
   ]
  },
  {
   "cell_type": "code",
   "execution_count": null,
   "id": "fc61fa4c",
   "metadata": {},
   "outputs": [],
   "source": [
    "hash_val = (ts + priv_api_key + pub_api_key).encode()\n",
    "md5_hash = hashlib.md5(hash_val).hexdigest()"
   ]
  },
  {
   "cell_type": "markdown",
   "id": "fff5a04e",
   "metadata": {},
   "source": [
    "### 1) Provide a list of 30 Marvel characters"
   ]
  },
  {
   "cell_type": "code",
   "execution_count": null,
   "id": "cfef527c",
   "metadata": {},
   "outputs": [],
   "source": [
    "characters_url = \"http://gateway.marvel.com/v1/public/characters\"\n",
    "\n",
    "characters_params = {\n",
    "    \"apikey\": pub_api_key,\n",
    "    \"ts\": ts,\n",
    "    \"hash\": md5_hash,\n",
    "    \"limit\": 30\n",
    "}\n",
    "\n",
    "char_response = requests.get(url = characters_url, params = characters_params).json()"
   ]
  },
  {
   "cell_type": "code",
   "execution_count": null,
   "id": "625f7645",
   "metadata": {},
   "outputs": [],
   "source": [
    "char_data = dict(char_response)[\"data\"][\"results\"]"
   ]
  },
  {
   "cell_type": "code",
   "execution_count": null,
   "id": "3c16ef6e",
   "metadata": {},
   "outputs": [],
   "source": [
    "character_names = []\n",
    "\n",
    "for hero in char_data:\n",
    "    character_names.append(hero[\"name\"])\n",
    "    \n",
    "character_names"
   ]
  },
  {
   "cell_type": "markdown",
   "id": "acd0fbb9",
   "metadata": {},
   "source": [
    "### 2) Retrieve the Ids for all the characters in your list (in str form)"
   ]
  },
  {
   "cell_type": "code",
   "execution_count": null,
   "id": "9636facf",
   "metadata": {},
   "outputs": [],
   "source": [
    "# continuation of q1, thus also using variables from that question\n",
    "\n",
    "character_ids = []\n",
    "\n",
    "for hero in char_data:\n",
    "    character_ids.append(str(hero[\"id\"]))\n",
    "    \n",
    "character_ids"
   ]
  },
  {
   "cell_type": "markdown",
   "id": "c01433ce",
   "metadata": {},
   "source": [
    "### 3) Retrieve the total number of Events available for all the characters in your list (in integer form)"
   ]
  },
  {
   "cell_type": "code",
   "execution_count": null,
   "id": "0bf29d9e",
   "metadata": {},
   "outputs": [],
   "source": [
    "# continuation of q1, thus also using variables from that question\n",
    "\n",
    "character_events_available = []\n",
    "\n",
    "for hero in char_data:\n",
    "    character_events_available.append(hero[\"events\"][\"available\"])\n",
    "    \n",
    "character_events_available"
   ]
  },
  {
   "cell_type": "markdown",
   "id": "24f372fc",
   "metadata": {},
   "source": [
    "### 4) Retrieve the total number of Series available for all the characters in your list  (in integer form)"
   ]
  },
  {
   "cell_type": "code",
   "execution_count": null,
   "id": "83d3e925",
   "metadata": {},
   "outputs": [],
   "source": [
    "# continuation of q1, thus also using variables from that question\n",
    "\n",
    "character_series_available = []\n",
    "\n",
    "for hero in char_data:\n",
    "    character_series_available.append(hero[\"series\"][\"available\"])\n",
    "    \n",
    "character_series_available"
   ]
  },
  {
   "cell_type": "markdown",
   "id": "5f23bbe9",
   "metadata": {},
   "source": [
    "### 5) Retrieve the total number of Comics available for all the characters in your list (in integer form)"
   ]
  },
  {
   "cell_type": "code",
   "execution_count": null,
   "id": "66770e0c",
   "metadata": {},
   "outputs": [],
   "source": [
    "# continuation of q1, thus also using variables from that question\n",
    "\n",
    "character_comics_available = []\n",
    "\n",
    "for hero in char_data:\n",
    "    character_comics_available.append(hero[\"comics\"][\"available\"])\n",
    "    \n",
    "character_comics_available"
   ]
  },
  {
   "cell_type": "markdown",
   "id": "0781b3ee",
   "metadata": {},
   "source": [
    "### 6) Retrieve the Price of the most expensive comic that the character was featured in for all the characters in your list (in float form and USD)"
   ]
  },
  {
   "cell_type": "code",
   "execution_count": null,
   "id": "a381ca03",
   "metadata": {},
   "outputs": [],
   "source": [
    "expensive_price = []\n",
    "\n",
    "for i in range(0,30):  \n",
    "    if character_comics_available[i] == 0:\n",
    "        expensive_price.append(0.0)\n",
    "                   \n",
    "    else:\n",
    "        url_price = 'http://gateway.marvel.com/v1/public/characters/' + character_ids[i] + '/comics'\n",
    "        offset = 0\n",
    "        num_comics = character_comics_available[i]\n",
    "        \n",
    "        price_info = []\n",
    "        prices = []\n",
    "        \n",
    "        while num_comics > 0:\n",
    "            params_price = {'apikey': pub_api_key, 'ts': ts, 'hash': md5_hash, 'limit': 100, 'offset': offset}\n",
    "            response6 = requests.get(url = url_price, params = params_price).json()\n",
    "            data6 = response6['data']['results']\n",
    "\n",
    "            for n in data6:\n",
    "                price_info.append(n['prices'])\n",
    "              \n",
    "                for x in price_info:\n",
    "                    for y in x:\n",
    "                        prices.append(y['price'])\n",
    "                            \n",
    "            offset = offset + 100\n",
    "            num_comics = num_comics - 100\n",
    "        \n",
    "        expensive_price.append(max(prices))\n",
    "                   \n",
    "\n",
    "expensive_price"
   ]
  },
  {
   "cell_type": "markdown",
   "id": "9e5f57f2",
   "metadata": {},
   "source": [
    "### 7) Store the data above in a pandas DataFrame called df containing exactly in the following columns: \n",
    "Character Name, Character ID, Total Available Events, Total Available Series, Total Available Comics, Price of the Most Expensive Comic. \n",
    "\n",
    "If a character is not featured in Events, Series or Comics the corresponding entry should be filled in with a None (of NoneType). If a character does not have a Price the corresponding entry should be filled in with a None (of NoneType)."
   ]
  },
  {
   "cell_type": "code",
   "execution_count": null,
   "id": "68e77122",
   "metadata": {},
   "outputs": [],
   "source": [
    "raw_data = {\n",
    "    \"Character Name\": character_names,\n",
    "    \"Character ID\": character_ids,\n",
    "    \"Total Available Events\": character_events_available,\n",
    "    \"Total Available Series\": character_series_available,\n",
    "    \"Total Available Comics\": character_comics_available,\n",
    "    \"Price of the Most Expensive Comic\": expensive_price\n",
    "}\n",
    "\n",
    "df = pd.DataFrame(raw_data)\n",
    "df.head()"
   ]
  },
  {
   "cell_type": "code",
   "execution_count": null,
   "id": "5d26f7d5",
   "metadata": {},
   "outputs": [],
   "source": [
    "df.replace(0, None, inplace = True)"
   ]
  },
  {
   "cell_type": "code",
   "execution_count": null,
   "id": "ada1e7d7",
   "metadata": {},
   "outputs": [],
   "source": [
    "df.head()"
   ]
  },
  {
   "cell_type": "code",
   "execution_count": null,
   "id": "97c05143",
   "metadata": {},
   "outputs": [],
   "source": [
    "df.dtypes"
   ]
  },
  {
   "cell_type": "code",
   "execution_count": null,
   "id": "3fbcc65b",
   "metadata": {},
   "outputs": [],
   "source": [
    "df = df.astype({\n",
    "    \"Total Available Events\": \"Int64\",\n",
    "    \"Total Available Series\": \"Int64\",\n",
    "    \"Total Available Comics\": \"Int64\",\n",
    "    \"Price of the Most Expensive Comic\": \"Float64\"\n",
    "})\n",
    "\n",
    "# Note, since the API outputs \"missing values\" as 0, they can be changed to None using replace. However, this \n",
    "# changes the data type of all columns to object, contradicting with the earlier questions. Best solution appears \n",
    "# to be changing the \"None\" typed to pandas built in \"NAType\" which allows the coexistence of Int64 and NAN ^^"
   ]
  },
  {
   "cell_type": "code",
   "execution_count": null,
   "id": "581feee0",
   "metadata": {},
   "outputs": [],
   "source": [
    "df.head()"
   ]
  },
  {
   "cell_type": "code",
   "execution_count": null,
   "id": "47bfadd5",
   "metadata": {},
   "outputs": [],
   "source": [
    "df.dtypes"
   ]
  },
  {
   "cell_type": "code",
   "execution_count": null,
   "id": "884ea014",
   "metadata": {},
   "outputs": [],
   "source": [
    "df.to_csv(\"data.csv\", index = False)"
   ]
  }
 ],
 "metadata": {
  "kernelspec": {
   "display_name": "Python 3 (ipykernel)",
   "language": "python",
   "name": "python3"
  },
  "language_info": {
   "codemirror_mode": {
    "name": "ipython",
    "version": 3
   },
   "file_extension": ".py",
   "mimetype": "text/x-python",
   "name": "python",
   "nbconvert_exporter": "python",
   "pygments_lexer": "ipython3",
   "version": "3.9.13"
  }
 },
 "nbformat": 4,
 "nbformat_minor": 5
}
